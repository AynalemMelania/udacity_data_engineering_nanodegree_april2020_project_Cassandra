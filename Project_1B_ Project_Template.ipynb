{
 "cells": [
  {
   "cell_type": "markdown",
   "metadata": {
    "editable": true
   },
   "source": [
    "# Part I. ETL Pipeline for Pre-Processing the Files"
   ]
  },
  {
   "cell_type": "markdown",
   "metadata": {
    "editable": true
   },
   "source": [
    "## PLEASE RUN THE FOLLOWING CODE FOR PRE-PROCESSING THE FILES"
   ]
  },
  {
   "cell_type": "markdown",
   "metadata": {
    "editable": true
   },
   "source": [
    "#### Import Python packages "
   ]
  },
  {
   "cell_type": "code",
   "execution_count": 1,
   "metadata": {
    "editable": true
   },
   "outputs": [],
   "source": [
    "import pandas as pd\n",
    "import cassandra\n",
    "import re\n",
    "import os\n",
    "import glob\n",
    "import numpy as np\n",
    "import json\n",
    "import csv"
   ]
  },
  {
   "cell_type": "markdown",
   "metadata": {
    "editable": true
   },
   "source": [
    "#### Creating list of filepaths to process original event csv data files"
   ]
  },
  {
   "cell_type": "code",
   "execution_count": 2,
   "metadata": {
    "editable": true
   },
   "outputs": [
    {
     "name": "stdout",
     "output_type": "stream",
     "text": [
      "/home/workspace\n",
      "['/home/workspace/event_data/2018-11-30-events.csv', '/home/workspace/event_data/2018-11-23-events.csv', '/home/workspace/event_data/2018-11-22-events.csv', '/home/workspace/event_data/2018-11-29-events.csv', '/home/workspace/event_data/2018-11-11-events.csv', '/home/workspace/event_data/2018-11-14-events.csv', '/home/workspace/event_data/2018-11-20-events.csv', '/home/workspace/event_data/2018-11-15-events.csv', '/home/workspace/event_data/2018-11-05-events.csv', '/home/workspace/event_data/2018-11-28-events.csv', '/home/workspace/event_data/2018-11-25-events.csv', '/home/workspace/event_data/2018-11-16-events.csv', '/home/workspace/event_data/2018-11-18-events.csv', '/home/workspace/event_data/2018-11-24-events.csv', '/home/workspace/event_data/2018-11-04-events.csv', '/home/workspace/event_data/2018-11-19-events.csv', '/home/workspace/event_data/2018-11-26-events.csv', '/home/workspace/event_data/2018-11-12-events.csv', '/home/workspace/event_data/2018-11-27-events.csv', '/home/workspace/event_data/2018-11-06-events.csv', '/home/workspace/event_data/2018-11-09-events.csv', '/home/workspace/event_data/2018-11-03-events.csv', '/home/workspace/event_data/2018-11-21-events.csv', '/home/workspace/event_data/2018-11-07-events.csv', '/home/workspace/event_data/2018-11-01-events.csv', '/home/workspace/event_data/2018-11-13-events.csv', '/home/workspace/event_data/2018-11-17-events.csv', '/home/workspace/event_data/2018-11-08-events.csv', '/home/workspace/event_data/2018-11-10-events.csv', '/home/workspace/event_data/2018-11-02-events.csv']\n"
     ]
    }
   ],
   "source": [
    "# current working directory\n",
    "print(os.getcwd())\n",
    "\n",
    "# current folder and subfolder event data\n",
    "filepath = os.getcwd() + '/event_data'\n",
    "\n",
    "# list of files and collect each filepath\n",
    "for root, dirs, files in os.walk(filepath):\n",
    "    \n",
    "# file path and roots with the subdirectories using glob\n",
    "    file_path_list = glob.glob(os.path.join(root,'*'))\n",
    "    #print(file_path_list)\n",
    "    print(file_path_list)"
   ]
  },
  {
   "cell_type": "markdown",
   "metadata": {
    "editable": true
   },
   "source": [
    "#### Processing the files to create the data file csv that will be used for Apache Casssandra tables"
   ]
  },
  {
   "cell_type": "code",
   "execution_count": 3,
   "metadata": {
    "editable": true
   },
   "outputs": [],
   "source": [
    "# initiating an empty list of rows that will be generated from each file\n",
    "full_data_rows_list = [] \n",
    "    \n",
    "# for every filepath in the file path list \n",
    "for f in file_path_list:\n",
    "\n",
    "# reading csv file \n",
    "    with open(f, 'r', encoding = 'utf8', newline='') as csvfile: \n",
    "        # creating a csv reader object \n",
    "        csvreader = csv.reader(csvfile) \n",
    "        next(csvreader)\n",
    "        \n",
    " #  data row one by one and append it        \n",
    "        for line in csvreader:\n",
    "            #print(line)\n",
    "            full_data_rows_list.append(line) \n",
    "             \n",
    "#print(len(full_data_rows_list))\n",
    "\n",
    "#print(full_data_rows_list)\n",
    "\n",
    "# creating a smaller event data csv file called event_datafile_full csv that will be used to insert data into the \\\n",
    "# Apache Cassandra tables\n",
    "csv.register_dialect('myDialect', quoting=csv.QUOTE_ALL, skipinitialspace=True)\n",
    "\n",
    "with open('event_datafile_new.csv', 'w', encoding = 'utf8', newline='') as f:\n",
    "    writer = csv.writer(f, dialect='myDialect')\n",
    "    writer.writerow(['artist','firstName','gender','itemInSession','lastName','length',\\\n",
    "                'level','location','sessionId','song','userId'])\n",
    "    for row in full_data_rows_list:\n",
    "        if (row[0] == ''):\n",
    "            continue\n",
    "        writer.writerow((row[0], row[2], row[3], row[4], row[5], row[6], row[7], row[8], row[12], row[13], row[16]))\n"
   ]
  },
  {
   "cell_type": "code",
   "execution_count": 4,
   "metadata": {
    "editable": true
   },
   "outputs": [
    {
     "name": "stdout",
     "output_type": "stream",
     "text": [
      "6821\n"
     ]
    }
   ],
   "source": [
    "# check the number of rows in your csv file\n",
    "with open('event_datafile_new.csv', 'r', encoding = 'utf8') as f:\n",
    "    print(sum(1 for line in f))"
   ]
  },
  {
   "cell_type": "markdown",
   "metadata": {
    "editable": true
   },
   "source": [
    "# Part II. Complete the Apache Cassandra coding portion of your project. \n",
    "\n",
    "## Now you are ready to work with the CSV file titled <font color=red>event_datafile_new.csv</font>, located within the Workspace directory.  The event_datafile_new.csv contains the following columns: \n",
    "- artist \n",
    "- firstName of user\n",
    "- gender of user\n",
    "- item number in session\n",
    "- last name of user\n",
    "- length of the song\n",
    "- level (paid or free song)\n",
    "- location of the user\n",
    "- sessionId\n",
    "- song title\n",
    "- userId\n",
    "\n",
    "The image below is a screenshot of what the denormalized data should appear like in the <font color=red>**event_datafile_new.csv**</font> after the code above is run:<br>\n",
    "\n",
    "<img src=\"images/image_event_datafile_new.jpg\">"
   ]
  },
  {
   "cell_type": "markdown",
   "metadata": {
    "editable": true
   },
   "source": [
    "## Begin writing your Apache Cassandra code in the cells below"
   ]
  },
  {
   "cell_type": "markdown",
   "metadata": {
    "editable": true
   },
   "source": [
    "#### Creating a Cluster"
   ]
  },
  {
   "cell_type": "code",
   "execution_count": 5,
   "metadata": {
    "editable": true
   },
   "outputs": [
    {
     "name": "stdout",
     "output_type": "stream",
     "text": [
      "Connected\n"
     ]
    }
   ],
   "source": [
    "# This should make a connection to a Cassandra instance your local machine \n",
    "# (127.0.0.1)\n",
    "\n",
    "from cassandra.cluster import Cluster\n",
    "try:\n",
    "    cluster = Cluster(['127.0.0.1'])\n",
    "    # To establish connection and begin executing queries, need a session\n",
    "    session = cluster.connect()\n",
    "    print(\"Connected\")\n",
    "except Exception as e:\n",
    "    print(e)"
   ]
  },
  {
   "cell_type": "markdown",
   "metadata": {
    "editable": true
   },
   "source": [
    "#### Create Keyspace"
   ]
  },
  {
   "cell_type": "code",
   "execution_count": 6,
   "metadata": {
    "editable": true
   },
   "outputs": [
    {
     "name": "stdout",
     "output_type": "stream",
     "text": [
      "Keyspace created\n"
     ]
    }
   ],
   "source": [
    "try:\n",
    "    session.execute(\"\"\"create keyspace if not exists udacity_cassandra_project \n",
    "    with replication =\n",
    "     { 'class' : 'SimpleStrategy', 'replication_factor' : 1 }\"\"\")\n",
    "    print(\"Keyspace created\")\n",
    "except Exception as e:\n",
    "    print(e)\n",
    "    "
   ]
  },
  {
   "cell_type": "markdown",
   "metadata": {
    "editable": true
   },
   "source": [
    "#### Set Keyspace"
   ]
  },
  {
   "cell_type": "code",
   "execution_count": 7,
   "metadata": {
    "editable": true
   },
   "outputs": [
    {
     "name": "stdout",
     "output_type": "stream",
     "text": [
      "Keyspace set\n"
     ]
    }
   ],
   "source": [
    "try:\n",
    "    session.set_keyspace('udacity_cassandra_project')\n",
    "    print(\"Keyspace set\")\n",
    "except Exception as e:\n",
    "    print(e)"
   ]
  },
  {
   "cell_type": "markdown",
   "metadata": {
    "editable": true
   },
   "source": [
    "### 1. Give me the artist, song title and song's length in the music app history that was heard during  sessionId = 338, and itemInSession  = 4\n",
    "\n",
    "### 2. Give me only the following: name of artist, song (sorted by itemInSession) and user (first and last name) for userid = 10, sessionid = 182 \n",
    "\n",
    "### 3. Give me every user name (first and last) in my music app history who listened to the song 'All Hands Against His Own'"
   ]
  },
  {
   "cell_type": "markdown",
   "metadata": {
    "editable": true
   },
   "source": [
    "### Create a table with a primary key composite from 2 features: session_id, item_in_session"
   ]
  },
  {
   "cell_type": "code",
   "execution_count": 8,
   "metadata": {
    "editable": true
   },
   "outputs": [
    {
     "name": "stdout",
     "output_type": "stream",
     "text": [
      "Songs table created\n"
     ]
    }
   ],
   "source": [
    "query_create_songs = \"create table if not exists songs(artist text, song_title text, length float, level text, session_id int, item_in_session int, primary key(session_id, item_in_session))\"\n",
    "try:\n",
    "    session.execute(query_create_songs)\n",
    "    print(\"Songs table created\")\n",
    "except Exception as e:\n",
    "    print(e)"
   ]
  },
  {
   "cell_type": "markdown",
   "metadata": {
    "editable": true
   },
   "source": [
    "### Insert data into songs table from csv file"
   ]
  },
  {
   "cell_type": "code",
   "execution_count": 9,
   "metadata": {
    "editable": true
   },
   "outputs": [],
   "source": [
    "file = 'event_datafile_new.csv'\n",
    "\n",
    "with open(file, encoding = 'utf8') as f:\n",
    "    csvreader = csv.reader(f)\n",
    "    next(csvreader) # skip header\n",
    "    for line in csvreader:\n",
    "        query = \"insert into songs (artist, song_title, length, level, session_id, item_in_session)\"\n",
    "        query = query + \"values(%s, %s, %s, %s, %s, %s)\"\n",
    "        session.execute(query, (line[0], line[9], float(line[5]), line[6],int(line[8]), int(line[3])))"
   ]
  },
  {
   "cell_type": "markdown",
   "metadata": {
    "editable": true
   },
   "source": [
    "### Verify that the data have been inserted into songs table"
   ]
  },
  {
   "cell_type": "code",
   "execution_count": 10,
   "metadata": {
    "editable": true,
    "scrolled": true
   },
   "outputs": [
    {
     "name": "stdout",
     "output_type": "stream",
     "text": [
      "Row(session_id=23, item_in_session=0, artist='Regina Spektor', length=191.08526611328125, level='paid', song_title='The Calculation (Album Version)')\n",
      "Row(session_id=23, item_in_session=1, artist='Octopus Project', length=250.95791625976562, level='paid', song_title='All Of The Champs That Ever Lived')\n",
      "Row(session_id=23, item_in_session=2, artist='Tegan And Sara', length=180.06158447265625, level='paid', song_title='So Jealous')\n",
      "Row(session_id=23, item_in_session=3, artist='Dragonette', length=153.39056396484375, level='paid', song_title='Okay Dolores')\n",
      "Row(session_id=23, item_in_session=4, artist='Lil Wayne / Eminem', length=229.58975219726562, level='paid', song_title='Drop The World')\n",
      "Row(session_id=23, item_in_session=5, artist=\"Soulja Boy Tell'em\", length=201.1162872314453, level='paid', song_title='Let Me Get Em')\n",
      "Row(session_id=23, item_in_session=6, artist='Bodo Wartke', length=645.2763061523438, level='paid', song_title='Liebeslied (Sprachen: Deutsch_ Englisch_ FranzÃ\\x83Â¶sisch_ Italienisch_ Spanisch_ HollÃ\\x83Â¤ndisch_ Japanisch_ Russisch_ Griechisch_ Klingonisch_ Hessisch)')\n",
      "Row(session_id=23, item_in_session=7, artist='Evanescence', length=237.11302185058594, level='paid', song_title='Bring Me To Life')\n",
      "Row(session_id=23, item_in_session=8, artist='Van Halen', length=243.1734161376953, level='paid', song_title='Good Enough')\n",
      "Row(session_id=23, item_in_session=9, artist='The Academy Is...', length=209.7628173828125, level='paid', song_title='Paper Chase (Album Version)')\n"
     ]
    }
   ],
   "source": [
    "query_check = \"select * from songs limit 10\"\n",
    "try:\n",
    "    rows_select = session.execute(query_check)\n",
    "except Exception as e:\n",
    "    print(e)\n",
    "for row in rows_select:\n",
    "    print(row)"
   ]
  },
  {
   "cell_type": "markdown",
   "metadata": {
    "editable": true
   },
   "source": [
    "### 1. Give me the artist, song title and song's length in the music app history that was heard during  sessionId = 338, and itemInSession  = 4"
   ]
  },
  {
   "cell_type": "code",
   "execution_count": 11,
   "metadata": {
    "editable": true
   },
   "outputs": [
    {
     "name": "stdout",
     "output_type": "stream",
     "text": [
      "Faithless Music Matters (Mark Knight Dub) 495.30731201171875\n"
     ]
    }
   ],
   "source": [
    "query1 = \"select artist, song_title, length from songs where session_id = 338 and item_in_session = 4\"\n",
    "try:\n",
    "    rows1 = session.execute(query1)\n",
    "    for row in rows1:\n",
    "        print(row.artist, row.song_title, row.length)\n",
    "except Exception as e:\n",
    "    print(e)"
   ]
  },
  {
   "cell_type": "markdown",
   "metadata": {
    "editable": true
   },
   "source": [
    "### Create a table with a composite primary key and a cluster to order the result of select by the column item_in_session"
   ]
  },
  {
   "cell_type": "code",
   "execution_count": 12,
   "metadata": {
    "editable": true
   },
   "outputs": [
    {
     "name": "stdout",
     "output_type": "stream",
     "text": [
      "Song_Session table created\n"
     ]
    }
   ],
   "source": [
    "query_create_song_session = \"create table if not exists song_session(artist text, song_title text, first_name_user text, last_name_user text, user_id int, session_id int, item_in_session int, primary key((user_id, session_id), item_in_session)) with clustering order by (item_in_session asc)\"\n",
    "try:\n",
    "    session.execute(query_create_song_session)\n",
    "    print(\"Song_Session table created\")\n",
    "except Exception as e:\n",
    "    print(e)"
   ]
  },
  {
   "cell_type": "markdown",
   "metadata": {
    "editable": true
   },
   "source": [
    "### Insert data into songs_session table from csv file"
   ]
  },
  {
   "cell_type": "code",
   "execution_count": 13,
   "metadata": {
    "editable": true
   },
   "outputs": [],
   "source": [
    "file = 'event_datafile_new.csv'\n",
    "\n",
    "with open(file, encoding = 'utf8') as f:\n",
    "    csvreader = csv.reader(f)\n",
    "    next(csvreader) # skip header\n",
    "    for line in csvreader:\n",
    "        query = \"insert into song_session(artist, song_title, first_name_user, last_name_user, user_id, session_id, item_in_session)\"\n",
    "        query = query + \"values(%s, %s, %s, %s, %s, %s, %s)\"\n",
    "        session.execute(query, (line[0], line[9], line[1], line[4], int(line[10]), int(line[8]), int(line[3])))"
   ]
  },
  {
   "cell_type": "markdown",
   "metadata": {
    "editable": true
   },
   "source": [
    "#### Verify that the data have been inserted into song_session table"
   ]
  },
  {
   "cell_type": "code",
   "execution_count": 14,
   "metadata": {
    "editable": true
   },
   "outputs": [
    {
     "name": "stdout",
     "output_type": "stream",
     "text": [
      "Row(user_id=58, session_id=768, item_in_session=0, artist='System of a Down', first_name_user='Emily', last_name_user='Benson', song_title='Sad Statue')\n",
      "Row(user_id=58, session_id=768, item_in_session=1, artist='Ghostland Observatory', first_name_user='Emily', last_name_user='Benson', song_title='Stranger Lover')\n",
      "Row(user_id=58, session_id=768, item_in_session=2, artist='Evergreen Terrace', first_name_user='Emily', last_name_user='Benson', song_title='Zero')\n",
      "Row(user_id=85, session_id=776, item_in_session=2, artist='Deftones', first_name_user='Kinsley', last_name_user='Young', song_title='Head Up (LP Version)')\n",
      "Row(user_id=85, session_id=776, item_in_session=3, artist='The Notorious B.I.G.', first_name_user='Kinsley', last_name_user='Young', song_title='Playa Hater (Amended Version)')\n",
      "Row(user_id=85, session_id=776, item_in_session=4, artist='Orchestral Manoeuvres In The Dark', first_name_user='Kinsley', last_name_user='Young', song_title='Stay (The Black Rose And The Universal Wheel)')\n",
      "Row(user_id=85, session_id=776, item_in_session=5, artist='Vangelis', first_name_user='Kinsley', last_name_user='Young', song_title=\"Roxane's Veil\")\n",
      "Row(user_id=85, session_id=776, item_in_session=6, artist='Spandau Ballet', first_name_user='Kinsley', last_name_user='Young', song_title='TRUE')\n",
      "Row(user_id=85, session_id=776, item_in_session=8, artist='The Pussycat Dolls', first_name_user='Kinsley', last_name_user='Young', song_title=\"I'm Done\")\n",
      "Row(user_id=85, session_id=776, item_in_session=9, artist='The Hollies', first_name_user='Kinsley', last_name_user='Young', song_title=\"I'm Down\")\n"
     ]
    }
   ],
   "source": [
    "query_select_song_session = \"select * from song_session limit 10\"\n",
    "try:\n",
    "    rows_select = session.execute(query_select_song_session)\n",
    "    for row in rows_select:\n",
    "        print(row)\n",
    "except Exception as e:\n",
    "    print(e)"
   ]
  },
  {
   "cell_type": "markdown",
   "metadata": {
    "editable": true
   },
   "source": [
    "### 2. Give me only the following: name of artist, song (sorted by itemInSession) and user (first and last name) for userid = 10, sessionid = 182 "
   ]
  },
  {
   "cell_type": "code",
   "execution_count": 15,
   "metadata": {
    "editable": true
   },
   "outputs": [
    {
     "name": "stdout",
     "output_type": "stream",
     "text": [
      "Down To The Bone Keep On Keepin' On 0 Sylvie Cruz\n",
      "Three Drives Greece 2000 1 Sylvie Cruz\n",
      "Sebastien Tellier Kilometer 2 Sylvie Cruz\n",
      "Lonnie Gordon Catch You Baby (Steve Pitron & Max Sanna Radio Edit) 3 Sylvie Cruz\n"
     ]
    }
   ],
   "source": [
    "query2 =\"select artist, song_title, item_in_session, first_name_user, last_name_user from song_session where user_id = 10 and session_id = 182 order by item_in_session\" \n",
    "try:\n",
    "    rows2 = session.execute(query2)\n",
    "    for row in rows2:\n",
    "        print(row.artist, row.song_title,row.item_in_session,row.first_name_user, row.last_name_user)\n",
    "except Exception as e:\n",
    "    print(e)"
   ]
  },
  {
   "cell_type": "markdown",
   "metadata": {
    "editable": true
   },
   "source": [
    "### For the third query, we need to create a composite primary key being song_title column and using a cluster user_id column"
   ]
  },
  {
   "cell_type": "code",
   "execution_count": 16,
   "metadata": {
    "editable": true
   },
   "outputs": [
    {
     "name": "stdout",
     "output_type": "stream",
     "text": [
      "Users table created\n"
     ]
    }
   ],
   "source": [
    "query_create_users = \"create table if not exists users(first_name text, last_name text, song_title text,user_id int, primary key((song_title),user_id))\"\n",
    "try:\n",
    "    session.execute(query_create_users)\n",
    "    print(\"Users table created\")\n",
    "except Exception as e:\n",
    "    print(e)"
   ]
  },
  {
   "cell_type": "markdown",
   "metadata": {
    "editable": true
   },
   "source": [
    "### Insert data into users table from csv file"
   ]
  },
  {
   "cell_type": "code",
   "execution_count": 17,
   "metadata": {
    "editable": true
   },
   "outputs": [],
   "source": [
    "file = 'event_datafile_new.csv'\n",
    "\n",
    "with open(file, encoding = 'utf8') as f:\n",
    "    csvreader = csv.reader(f)\n",
    "    next(csvreader) # skip header\n",
    "    for line in csvreader:\n",
    "        query = \"insert into users(first_name, last_name, song_title, user_id)\"\n",
    "        query = query + \"values(%s, %s, %s, %s)\"\n",
    "        session.execute(query, (line[1], line[4], line[9],int(line[10])))"
   ]
  },
  {
   "cell_type": "markdown",
   "metadata": {
    "editable": true
   },
   "source": [
    "### Verify that the data have been inserted into users table"
   ]
  },
  {
   "cell_type": "code",
   "execution_count": 18,
   "metadata": {
    "editable": true
   },
   "outputs": [
    {
     "name": "stdout",
     "output_type": "stream",
     "text": [
      "Chloe Cuevas\n",
      "Chloe Cuevas\n",
      "Aleena Kirby\n",
      "Chloe Cuevas\n",
      "Lily Koch\n",
      "Jacob Klein\n",
      "Layla Griffin\n",
      "Tegan Levine\n",
      "Mohammad Rodriguez\n",
      "Kate Harrell\n"
     ]
    }
   ],
   "source": [
    "query_select_users = \"select * from users limit 10\"\n",
    "try:\n",
    "    rows_select = session.execute(query_select_users)\n",
    "    for row in rows_select:\n",
    "        print(row.first_name, row.last_name)\n",
    "except Exception as e:\n",
    "    print(e)"
   ]
  },
  {
   "cell_type": "markdown",
   "metadata": {
    "editable": true
   },
   "source": [
    "### 3. Give me every user name (first and last) in my music app history who listened to the song 'All Hands Against His Own'"
   ]
  },
  {
   "cell_type": "code",
   "execution_count": 19,
   "metadata": {
    "editable": true
   },
   "outputs": [
    {
     "name": "stdout",
     "output_type": "stream",
     "text": [
      "Jacqueline Lynch\n",
      "Tegan Levine\n",
      "Sara Johnson\n"
     ]
    }
   ],
   "source": [
    "query3 = \"select first_name, last_name from users where song_title = 'All Hands Against His Own'\"\n",
    "try:\n",
    "    rows3 = session.execute(query3)\n",
    "    for row in rows3:\n",
    "        print(row.first_name, row.last_name)\n",
    "except Exception as e:\n",
    "    print(e)"
   ]
  },
  {
   "cell_type": "markdown",
   "metadata": {
    "editable": true
   },
   "source": [
    "### Drop the tables before closing out the sessions"
   ]
  },
  {
   "cell_type": "markdown",
   "metadata": {
    "editable": true
   },
   "source": [
    "### Drop the first table"
   ]
  },
  {
   "cell_type": "code",
   "execution_count": 20,
   "metadata": {
    "editable": true
   },
   "outputs": [
    {
     "name": "stdout",
     "output_type": "stream",
     "text": [
      "Songs table deleted succes successfully\n"
     ]
    }
   ],
   "source": [
    "query_delete_1=\"drop table if exists songs\"\n",
    "try:\n",
    "    session.execute(query_delete_1)\n",
    "    print(\"Songs table deleted succes successfully\")\n",
    "except Exception as e:\n",
    "    print(e)"
   ]
  },
  {
   "cell_type": "markdown",
   "metadata": {
    "editable": true
   },
   "source": [
    "### Drop the second table"
   ]
  },
  {
   "cell_type": "code",
   "execution_count": 21,
   "metadata": {
    "editable": true
   },
   "outputs": [
    {
     "name": "stdout",
     "output_type": "stream",
     "text": [
      "Song_session table deleted successfully\n"
     ]
    }
   ],
   "source": [
    "query_delete_2=\"drop table if exists song_session\"\n",
    "try:\n",
    "    session.execute(query_delete_2)\n",
    "    print(\"Song_session table deleted successfully\")\n",
    "except Exception as e:\n",
    "    print(e)"
   ]
  },
  {
   "cell_type": "markdown",
   "metadata": {
    "editable": true
   },
   "source": [
    "### Drop the third table"
   ]
  },
  {
   "cell_type": "code",
   "execution_count": 22,
   "metadata": {
    "editable": true
   },
   "outputs": [
    {
     "name": "stdout",
     "output_type": "stream",
     "text": [
      "Users table deleted successfully\n"
     ]
    }
   ],
   "source": [
    "query_delete_3=\"drop table if exists users\"\n",
    "try:\n",
    "    session.execute(query_delete_2)\n",
    "    print(\"Users table deleted successfully\")\n",
    "except Exception as e:\n",
    "    print(e)"
   ]
  },
  {
   "cell_type": "markdown",
   "metadata": {
    "editable": true
   },
   "source": [
    "### Close the session and cluster connection¶"
   ]
  },
  {
   "cell_type": "code",
   "execution_count": 23,
   "metadata": {
    "editable": true
   },
   "outputs": [],
   "source": [
    "session.shutdown()\n",
    "cluster.shutdown()"
   ]
  },
  {
   "cell_type": "code",
   "execution_count": null,
   "metadata": {
    "editable": true
   },
   "outputs": [],
   "source": []
  }
 ],
 "metadata": {
  "kernelspec": {
   "display_name": "Python 3",
   "language": "python",
   "name": "python3"
  },
  "language_info": {
   "codemirror_mode": {
    "name": "ipython",
    "version": 3
   },
   "file_extension": ".py",
   "mimetype": "text/x-python",
   "name": "python",
   "nbconvert_exporter": "python",
   "pygments_lexer": "ipython3",
   "version": "3.6.3"
  }
 },
 "nbformat": 4,
 "nbformat_minor": 4
}
